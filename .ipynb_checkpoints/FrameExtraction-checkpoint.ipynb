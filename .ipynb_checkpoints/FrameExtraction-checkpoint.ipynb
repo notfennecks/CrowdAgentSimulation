{
 "cells": [
  {
   "cell_type": "code",
   "execution_count": 10,
   "id": "80b650ab-cbd1-424c-9720-1d5ea6e29f79",
   "metadata": {},
   "outputs": [],
   "source": [
    "from moviepy.editor import VideoFileClip\n",
    "import imageio"
   ]
  },
  {
   "cell_type": "code",
   "execution_count": 11,
   "id": "586be306-42a1-4f42-b10f-d74c4ad66b8b",
   "metadata": {},
   "outputs": [],
   "source": [
    "import os"
   ]
  },
  {
   "cell_type": "code",
   "execution_count": 12,
   "id": "2a10c0a6-0c91-4841-a23d-f927489564fc",
   "metadata": {},
   "outputs": [],
   "source": [
    "# Function to extract frames from a video clip\n",
    "def extract_frames(video_path, output_folder):\n",
    "    clip = VideoFileClip(video_path)\n",
    "    frame_rate = 1 / clip.fps  # Get the frame rate of the video\n",
    "    \n",
    "    # Create the output folder if it doesn't exist\n",
    "    if not os.path.exists(output_folder):\n",
    "        os.makedirs(output_folder)\n",
    "    \n",
    "    # Iterate through each frame and save every 10th frame as a PNG image\n",
    "    for i, frame in enumerate(clip.iter_frames(fps=clip.fps, dtype='uint8')):\n",
    "        if i % 20 == 0:\n",
    "            frame_path = os.path.join(output_folder, f\"frame_{i}.png\")\n",
    "            imageio.imwrite(frame_path, frame)\n",
    "\n",
    "    clip.close()"
   ]
  },
  {
   "cell_type": "code",
   "execution_count": 13,
   "id": "338e7262-180a-4d33-b550-a966058fa0a0",
   "metadata": {},
   "outputs": [],
   "source": [
    "# Example usage\n",
    "video_path = \"CrowdSim.mp4\"  # Replace with the path to your video file\n",
    "output_folder = \"Frames\"  # Folder to save extracted frames"
   ]
  },
  {
   "cell_type": "code",
   "execution_count": 14,
   "id": "11ad9887-058d-4c9e-b667-a01ceb6b9d01",
   "metadata": {},
   "outputs": [],
   "source": [
    "extract_frames(video_path, output_folder)"
   ]
  },
  {
   "cell_type": "code",
   "execution_count": null,
   "id": "44fc784b-ab41-4142-9dab-d60136ee9361",
   "metadata": {},
   "outputs": [],
   "source": []
  }
 ],
 "metadata": {
  "kernelspec": {
   "display_name": "Python 3 (ipykernel)",
   "language": "python",
   "name": "python3"
  },
  "language_info": {
   "codemirror_mode": {
    "name": "ipython",
    "version": 3
   },
   "file_extension": ".py",
   "mimetype": "text/x-python",
   "name": "python",
   "nbconvert_exporter": "python",
   "pygments_lexer": "ipython3",
   "version": "3.11.7"
  }
 },
 "nbformat": 4,
 "nbformat_minor": 5
}
